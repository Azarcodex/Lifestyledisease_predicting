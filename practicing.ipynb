{
 "cells": [
  {
   "cell_type": "code",
   "execution_count": null,
   "metadata": {},
   "outputs": [],
   "source": [
    "print(1+1)"
   ]
  },
  {
   "cell_type": "markdown",
   "metadata": {},
   "source": [
    "BEGINNING OF TRAINING THE MODEL"
   ]
  },
  {
   "cell_type": "code",
   "execution_count": 1,
   "metadata": {},
   "outputs": [],
   "source": [
    "#IMPORTING\n",
    "import pandas as pd\n",
    "import numpy as np\n",
    "from sklearn.model_selection import train_test_split\n",
    "from sklearn.preprocessing import LabelEncoder\n",
    "from sklearn.tree import DecisionTreeClassifier\n",
    "from sklearn.neighbors import KNeighborsClassifier\n",
    "from sklearn.ensemble import RandomForestClassifier\n",
    "import xgboost as xgb\n",
    "from xgboost import XGBClassifier\n",
    "from sklearn.metrics import accuracy_score\n",
    "import matplotlib.pyplot as plt\n",
    "import seaborn as sns\n",
    "import joblib\n",
    "from sklearn.linear_model import LogisticRegression\n",
    "from sklearn.preprocessing import StandardScaler\n"
   ]
  },
  {
   "cell_type": "markdown",
   "metadata": {},
   "source": [
    "sample array problem"
   ]
  },
  {
   "cell_type": "code",
   "execution_count": null,
   "metadata": {},
   "outputs": [],
   "source": [
    "dataset=([\n",
    "       [20,40,50,60,1],\n",
    "       [13,10,30,20,0],\n",
    "       [26,40,50,60,1],\n",
    "       [13,10,30,20,0],\n",
    "       [20,40,50,60,1],\n",
    "       [13,10,20,20,0],\n",
    "       [86,40,50,10,1],\n",
    "       [13,90,30,20,1],\n",
    "])\n",
    "df=pd.DataFrame(dataset,columns=[\"feature1\",\"feature2\",\"feature3\",\"feature4\",\"output\"])\n",
    "x=df.drop(columns=[\"output\"])\n",
    "y=df[\"output\"]\n",
    "X_train,X_test,Y_train,Y_test=train_test_split(x,y,test_size=0.3,random_state=42)\n",
    "clf=RandomForestClassifier(random_state=42)\n",
    "clf.fit(X_train,Y_train)\n",
    "pred=clf.predict(X_test)\n",
    "\n",
    "input_data=(13,10,30,20)\n",
    "input_data_reshape=np.array(input_data).reshape(1,-1)\n",
    "prediction=clf.predict(input_data_reshape)\n",
    "print(prediction[0])"
   ]
  },
  {
   "cell_type": "code",
   "execution_count": 16,
   "metadata": {},
   "outputs": [
    {
     "name": "stdout",
     "output_type": "stream",
     "text": [
      "0.5\n",
      "0\n"
     ]
    },
    {
     "name": "stderr",
     "output_type": "stream",
     "text": [
      "c:\\Users\\Deell\\AppData\\Local\\Programs\\Python\\Python312\\Lib\\site-packages\\sklearn\\base.py:493: UserWarning: X does not have valid feature names, but RandomForestClassifier was fitted with feature names\n",
      "  warnings.warn(\n"
     ]
    }
   ],
   "source": [
    "dataset=([\n",
    "       [1,2,3,4,1],\n",
    "       [4,5,2,1,0],\n",
    "       [9,8,7,6,1],\n",
    "       [1,3,5,7,0],\n",
    "       [6,5,4,3,1]\n",
    "])\n",
    "dataframing=pd.DataFrame(dataset,columns=[\"set1\",\"set2\",\"set3\",\"set4\",\"output\"])\n",
    "a=dataframing.drop(columns=[\"output\"])\n",
    "b=dataframing[\"output\"]\n",
    "a_train,a_test,b_train,b_test=train_test_split(a,b,test_size=0.3,random_state=42)\n",
    "clx=RandomForestClassifier(random_state=42)\n",
    "clx.fit(a_train,b_train)\n",
    "predict=clx.predict(a_test)\n",
    "accuracy=accuracy_score(b_test,predict)\n",
    "print(accuracy)\n",
    "\n",
    "inp_data=(1,3,5,7)\n",
    "input_data_reshape=np.array(inp_data).reshape(1,-1)\n",
    "predicting=clx.predict(input_data_reshape)\n",
    "print(predicting[0])\n"
   ]
  },
  {
   "cell_type": "code",
   "execution_count": null,
   "metadata": {},
   "outputs": [],
   "source": []
  },
  {
   "cell_type": "markdown",
   "metadata": {},
   "source": [
    "READING THE FILE"
   ]
  },
  {
   "cell_type": "code",
   "execution_count": null,
   "metadata": {},
   "outputs": [],
   "source": [
    "mydata=pd.read_csv('lifestyledatasets.csv')\n",
    "#print(mydata.head())\n",
    "print(mydata.info())"
   ]
  },
  {
   "cell_type": "markdown",
   "metadata": {},
   "source": [
    "looking for incomplete data"
   ]
  },
  {
   "cell_type": "code",
   "execution_count": null,
   "metadata": {},
   "outputs": [],
   "source": [
    "print(mydata.isnull().sum())"
   ]
  },
  {
   "cell_type": "markdown",
   "metadata": {},
   "source": []
  },
  {
   "cell_type": "code",
   "execution_count": null,
   "metadata": {},
   "outputs": [],
   "source": [
    "px=sns.heatmap(mydata.isnull())"
   ]
  },
  {
   "cell_type": "code",
   "execution_count": null,
   "metadata": {},
   "outputs": [],
   "source": [
    "lx=LabelEncoder()\n",
    "#mydata['Disease']=lx.fit_transform(mydata['Disease'])\n",
    "mydata['Fever']=lx.fit_transform(mydata['Fever'])\n",
    "mydata['Cough']=lx.fit_transform(mydata['Cough'])\n",
    "mydata['Fatigue']=lx.fit_transform(mydata['Fatigue'])\n",
    "mydata['Difficulty Breathing']=lx.fit_transform(mydata['Difficulty Breathing'])\n",
    "mydata['Gender']=lx.fit_transform(mydata['Gender'])\n",
    "mydata['Blood Pressure']=lx.fit_transform(mydata['Blood Pressure'])\n",
    "mydata['Cholesterol Level']=lx.fit_transform(mydata['Cholesterol Level'])\n",
    "\n"
   ]
  },
  {
   "cell_type": "code",
   "execution_count": null,
   "metadata": {},
   "outputs": [],
   "source": [
    "correlation=mydata.corr()\n",
    "print(correlation)"
   ]
  },
  {
   "cell_type": "code",
   "execution_count": null,
   "metadata": {},
   "outputs": [],
   "source": [
    "correlation_graph=sns.heatmap(correlation)\n",
    "print(correlation_graph)"
   ]
  },
  {
   "cell_type": "markdown",
   "metadata": {},
   "source": [
    "lets train-test-split"
   ]
  },
  {
   "cell_type": "code",
   "execution_count": null,
   "metadata": {},
   "outputs": [],
   "source": [
    "x=mydata.drop(\"Disease\",axis=1)\n",
    "y=mydata[\"Disease\"]\n",
    "x_train,x_test,y_train,y_test=train_test_split(x,y,test_size=0.2)"
   ]
  },
  {
   "cell_type": "code",
   "execution_count": null,
   "metadata": {},
   "outputs": [],
   "source": [
    "model=LogisticRegression()\n",
    "model.fit(x_train,y_train)"
   ]
  },
  {
   "cell_type": "code",
   "execution_count": null,
   "metadata": {},
   "outputs": [],
   "source": [
    "prediction=model.predict(x_test)\n",
    "print(prediction)"
   ]
  },
  {
   "cell_type": "markdown",
   "metadata": {},
   "source": [
    "lets check accuracy"
   ]
  },
  {
   "cell_type": "code",
   "execution_count": null,
   "metadata": {},
   "outputs": [],
   "source": [
    "accuracy=accuracy_score(prediction,y_test)\n",
    "print(accuracy)"
   ]
  }
 ],
 "metadata": {
  "kernelspec": {
   "display_name": "Python 3",
   "language": "python",
   "name": "python3"
  },
  "language_info": {
   "codemirror_mode": {
    "name": "ipython",
    "version": 3
   },
   "file_extension": ".py",
   "mimetype": "text/x-python",
   "name": "python",
   "nbconvert_exporter": "python",
   "pygments_lexer": "ipython3",
   "version": "3.12.6"
  }
 },
 "nbformat": 4,
 "nbformat_minor": 2
}
